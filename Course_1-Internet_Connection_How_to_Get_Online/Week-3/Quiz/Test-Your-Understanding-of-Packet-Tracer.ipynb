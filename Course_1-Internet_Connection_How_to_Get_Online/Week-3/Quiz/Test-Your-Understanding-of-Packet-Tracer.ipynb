{
 "cells": [
  {
   "cell_type": "markdown",
   "metadata": {},
   "source": [
    "#### 1. Where can you create a new building and wiring closet?"
   ]
  },
  {
   "cell_type": "markdown",
   "metadata": {},
   "source": [
    "##### Ans: Physical Workspace"
   ]
  },
  {
   "cell_type": "markdown",
   "metadata": {},
   "source": [
    "#### 2. Which button allows you to switch between workspaces?\n",
    "<img src=\"https://d3c33hcgiwev3.cloudfront.net/imageAssetProxy.v1/Dg4Zcc_YEeeq3Aqd6N13dg_eb2bfb4d605acd2b8e83a13e2ce84ac7_PT_interface_quiz_question.png?expiry=1554595200000&amp;hmac=1PEX489pgxO9s5JrRhm5Wm50MDMjlipSulY3zxasKtg\" alt=\"\">"
   ]
  },
  {
   "cell_type": "markdown",
   "metadata": {},
   "source": [
    "##### Ans: 1"
   ]
  },
  {
   "cell_type": "markdown",
   "metadata": {},
   "source": [
    "#### 3. What is the cable type of the lightning icon?\n",
    "<img src=\"https://d3c33hcgiwev3.cloudfront.net/imageAssetProxy.v1/6j2iDM_ZEeeq3Aqd6N13dg_90cbb9f6e220ef13a2caa3af45e34bc3_PT_cable_icon_question.png?expiry=1554595200000&amp;hmac=2eMPni3ZANJyzMqfM-7RkAgpXC9ZKUJbxXFXvLNgNbk\" alt=\"\">"
   ]
  },
  {
   "cell_type": "markdown",
   "metadata": {},
   "source": [
    "##### Ans: Automatically Choose Connection Type "
   ]
  }
 ],
 "metadata": {
  "kernelspec": {
   "display_name": "Python 3",
   "language": "python",
   "name": "python3"
  },
  "language_info": {
   "codemirror_mode": {
    "name": "ipython",
    "version": 3
   },
   "file_extension": ".py",
   "mimetype": "text/x-python",
   "name": "python",
   "nbconvert_exporter": "python",
   "pygments_lexer": "ipython3",
   "version": "3.6.4"
  }
 },
 "nbformat": 4,
 "nbformat_minor": 2
}
