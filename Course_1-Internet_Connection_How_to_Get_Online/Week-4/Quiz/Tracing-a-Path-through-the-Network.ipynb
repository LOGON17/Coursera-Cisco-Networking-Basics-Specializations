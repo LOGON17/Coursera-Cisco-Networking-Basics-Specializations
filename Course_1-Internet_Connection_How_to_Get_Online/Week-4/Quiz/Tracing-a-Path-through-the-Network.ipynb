{
 "cells": [
  {
   "cell_type": "markdown",
   "metadata": {},
   "source": [
    "#### 1. Which three methods can be used to identify an IP address on the source device? (Choose 3.)"
   ]
  },
  {
   "cell_type": "markdown",
   "metadata": {},
   "source": [
    "##### Ans: \n",
    "- use ipconfig or ipconfig/ all (or ifconfig when using Linux)\n",
    "- view the IP address from the Network Adapter settings (or Network Connections on a Mac)\n",
    "- view the IP address from the Internet Protocol/IPv4 Properties in a Windows machine."
   ]
  },
  {
   "cell_type": "markdown",
   "metadata": {},
   "source": [
    "#### 2. Which protocol translates the URL (www.cisco.com) to an IP address?"
   ]
  },
  {
   "cell_type": "markdown",
   "metadata": {},
   "source": [
    "##### Ans: Domain Name Service"
   ]
  },
  {
   "cell_type": "markdown",
   "metadata": {},
   "source": [
    "#### 3. Which two commands will display the list of routers that a message or packet will traverse between source and destination? (Choose 2.)"
   ]
  },
  {
   "cell_type": "markdown",
   "metadata": {},
   "source": [
    "##### Ans: \n",
    "- tracert 209.165.200.226\n",
    "- traceroute 209.165.200.226"
   ]
  }
 ],
 "metadata": {
  "kernelspec": {
   "display_name": "Python 3",
   "language": "python",
   "name": "python3"
  },
  "language_info": {
   "codemirror_mode": {
    "name": "ipython",
    "version": 3
   },
   "file_extension": ".py",
   "mimetype": "text/x-python",
   "name": "python",
   "nbconvert_exporter": "python",
   "pygments_lexer": "ipython3",
   "version": "3.6.4"
  }
 },
 "nbformat": 4,
 "nbformat_minor": 2
}
