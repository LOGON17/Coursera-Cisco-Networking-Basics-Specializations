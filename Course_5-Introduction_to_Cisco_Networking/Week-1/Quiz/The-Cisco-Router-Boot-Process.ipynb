{
 "cells": [
  {
   "cell_type": "markdown",
   "metadata": {},
   "source": [
    "#### 1. What is the purpose of the bootstrap program?"
   ]
  },
  {
   "cell_type": "markdown",
   "metadata": {},
   "source": [
    "##### Ans: It finds and loads the router operating system."
   ]
  },
  {
   "cell_type": "markdown",
   "metadata": {},
   "source": [
    "#### 2.  What is the significance of the three locations listed to the left of the Configuration block?\n",
    "<img src=\"https://d3c33hcgiwev3.cloudfront.net/imageAssetProxy.v1/3x0zsVU1EeeroBJvqbisdg_32226edcd751b9c7895fe8c7363f772c_8.2.2.4.png?expiry=1558742400000&amp;hmac=ehFFkpHqTffsbMpHbNpxk6hN0oXqCssypIJIzmfFaUM\" alt=\"\" >"
   ]
  },
  {
   "cell_type": "markdown",
   "metadata": {},
   "source": [
    "##### Ans: The router will look in each of the locations in order until the configuration file is found."
   ]
  }
 ],
 "metadata": {
  "kernelspec": {
   "display_name": "Python 3",
   "language": "python",
   "name": "python3"
  },
  "language_info": {
   "codemirror_mode": {
    "name": "ipython",
    "version": 3
   },
   "file_extension": ".py",
   "mimetype": "text/x-python",
   "name": "python",
   "nbconvert_exporter": "python",
   "pygments_lexer": "ipython3",
   "version": "3.6.4"
  }
 },
 "nbformat": 4,
 "nbformat_minor": 2
}
