{
 "cells": [
  {
   "cell_type": "markdown",
   "metadata": {},
   "source": [
    "#### 1. A ____________ is a device usually installed between two or more networks to block undesirable traffic."
   ]
  },
  {
   "cell_type": "markdown",
   "metadata": {},
   "source": [
    "##### Ans: firewall"
   ]
  },
  {
   "cell_type": "markdown",
   "metadata": {},
   "source": [
    "#### 2. What two types of rules are typically created in the Advanced Settings of the Windows 10 Firewall? (Choose 2.)"
   ]
  },
  {
   "cell_type": "markdown",
   "metadata": {},
   "source": [
    "##### Ans: \n",
    "- rules to allow/block programs\n",
    "- rules to allow/block ports"
   ]
  },
  {
   "cell_type": "markdown",
   "metadata": {},
   "source": [
    "#### 3. The _________ is a part of the network that is used for servers which are accessible by both internal and external users."
   ]
  },
  {
   "cell_type": "markdown",
   "metadata": {},
   "source": [
    "##### Ans: DMZ"
   ]
  },
  {
   "cell_type": "markdown",
   "metadata": {},
   "source": [
    "#### 4.  H3 needs to send a web request to the internal Web Server. What three actions are occurring inside of the wireless router in this transaction if a DMZ is created?\n",
    "<img src=\"https://d3c33hcgiwev3.cloudfront.net/imageAssetProxy.v1/bEtf9VLVEeeoGQp8Le0RqA_21f7e57196cdaf3a7f2f0085db116f52_7.4.1.3_assessment.png?expiry=1558656000000&amp;hmac=eHpXPlWyZpbMpy5KX9E8MUSMK7yYCb06_nsUekrRvrE\" alt=\"\" >"
   ]
  },
  {
   "cell_type": "markdown",
   "metadata": {},
   "source": [
    "##### Ans: \n",
    "- The routing function drops any broadcasts from H3 but allows unicast traffic from H3 on port 80 or port 443 to the internal network.\n",
    "- The firewall blocks traffic to H1 and H2 from H3 based on rules for ports, IP or MAC addresses.\n",
    "- The switching function directs H3 traffic from the routing function to the specific port connected directly to the server."
   ]
  },
  {
   "cell_type": "markdown",
   "metadata": {},
   "source": [
    "#### 5. What is port triggering?"
   ]
  },
  {
   "cell_type": "markdown",
   "metadata": {},
   "source": [
    "##### Ans: a feature that allows the router to temporarily forward data through inbound TCP or UDP ports to a specific device"
   ]
  }
 ],
 "metadata": {
  "kernelspec": {
   "display_name": "Python 3",
   "language": "python",
   "name": "python3"
  },
  "language_info": {
   "codemirror_mode": {
    "name": "ipython",
    "version": 3
   },
   "file_extension": ".py",
   "mimetype": "text/x-python",
   "name": "python",
   "nbconvert_exporter": "python",
   "pygments_lexer": "ipython3",
   "version": "3.6.4"
  }
 },
 "nbformat": 4,
 "nbformat_minor": 2
}
