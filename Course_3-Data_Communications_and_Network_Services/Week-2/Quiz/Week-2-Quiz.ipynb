{
 "cells": [
  {
   "cell_type": "markdown",
   "metadata": {},
   "source": [
    "#### 1. Which function does NAT perform in a wireless router?"
   ]
  },
  {
   "cell_type": "markdown",
   "metadata": {},
   "source": [
    "##### Ans: NAT takes an internal source IP address and translates it to a global IP address."
   ]
  },
  {
   "cell_type": "markdown",
   "metadata": {},
   "source": [
    "#### 2. What is the primary motivation for development of IPv6?"
   ]
  },
  {
   "cell_type": "markdown",
   "metadata": {},
   "source": [
    "##### Ans: expanded addressing capabilities"
   ]
  },
  {
   "cell_type": "markdown",
   "metadata": {},
   "source": [
    "#### 3. How many binary bits exist within an IPv6 address?"
   ]
  },
  {
   "cell_type": "markdown",
   "metadata": {},
   "source": [
    "##### Ans: 128"
   ]
  },
  {
   "cell_type": "markdown",
   "metadata": {},
   "source": [
    "#### 4. What is an equivalent representation of the full IPv6 address?\n",
    "<img src=\"https://d3c33hcgiwev3.cloudfront.net/imageAssetProxy.v1/Yc_NEe_rEea7IA402RXV0g_351eb0a61bfa9d015ea077bb5db634c7_285521.JPG?expiry=1557446400000&amp;hmac=8IMTjoQDw9xhSd3IazDZyEBa_VGYg6LGYI6DOqQm12U\" alt=\"\" >"
   ]
  },
  {
   "cell_type": "markdown",
   "metadata": {},
   "source": [
    "##### Ans: 2031:0:300::C0:8000:130B"
   ]
  },
  {
   "cell_type": "markdown",
   "metadata": {},
   "source": [
    "#### 5. A technician has configured a user workstation with the information shown. Although the user can access all local LAN resources, the user cannot access any Internet sites by using either domain names or IP addresses. What is causing this failure?\n",
    "<img src=\"https://d3c33hcgiwev3.cloudfront.net/imageAssetProxy.v1/ZwFXR2f8EeeDRAot5bGaoA_811bc60d464aa93bcd0601a0aa19dfa3_i285517v1n1_36983.jpg?expiry=1557446400000&amp;hmac=6qjzpMRMg7W3gq4g7-9PeA6gPKFGl-W9ud9jbLC87xs\" alt=\"\">"
   ]
  },
  {
   "cell_type": "markdown",
   "metadata": {},
   "source": [
    "##### Ans: The default gateway address is incorrect."
   ]
  }
 ],
 "metadata": {
  "kernelspec": {
   "display_name": "Python 3",
   "language": "python",
   "name": "python3"
  },
  "language_info": {
   "codemirror_mode": {
    "name": "ipython",
    "version": 3
   },
   "file_extension": ".py",
   "mimetype": "text/x-python",
   "name": "python",
   "nbconvert_exporter": "python",
   "pygments_lexer": "ipython3",
   "version": "3.6.4"
  }
 },
 "nbformat": 4,
 "nbformat_minor": 2
}
