{
 "cells": [
  {
   "cell_type": "markdown",
   "metadata": {},
   "source": [
    "#### 1. How do you enable DHCP on a Windows PC client?"
   ]
  },
  {
   "cell_type": "markdown",
   "metadata": {},
   "source": [
    "##### Ans: Go into TCP/IP properties and click Obtain an IP address automatically."
   ]
  },
  {
   "cell_type": "markdown",
   "metadata": {},
   "source": [
    "#### 2. What is a benefit of assigning a static IP address to a client?"
   ]
  },
  {
   "cell_type": "markdown",
   "metadata": {},
   "source": [
    "##### Ans: easy and consistent access to a device in use by everyone such as a printer or server."
   ]
  },
  {
   "cell_type": "markdown",
   "metadata": {},
   "source": [
    "#### 3. Refer to the exhibit. You decided to statically assign an address to your network. After using the ping command to verify connectivity, the ping request replies timeout. What is the most likely cause of the problem?\n",
    "<img src=\"https://d3c33hcgiwev3.cloudfront.net/imageAssetProxy.v1/ZhI_CTslEee6yBK-xDIf0A_ccd9e3e2d29470048abbdbcd7ad499c0_C3W1_Quiz_TCP_IP-properties-1.png?expiry=1557446400000&amp;hmac=u6VdrAt1f0xxYn3XIfFa_KX94wVuWlpiZCVrX8bapo4\" alt=\"\" >"
   ]
  },
  {
   "cell_type": "markdown",
   "metadata": {},
   "source": [
    "##### Ans: The default gateway and the hosts are not on the same network."
   ]
  },
  {
   "cell_type": "markdown",
   "metadata": {},
   "source": [
    "#### 4. What is the purpose of DHCP?"
   ]
  },
  {
   "cell_type": "markdown",
   "metadata": {},
   "source": [
    "##### Ans: provides a mechanism for the automatic assignment of addressing information for a client"
   ]
  }
 ],
 "metadata": {
  "kernelspec": {
   "display_name": "Python 3",
   "language": "python",
   "name": "python3"
  },
  "language_info": {
   "codemirror_mode": {
    "name": "ipython",
    "version": 3
   },
   "file_extension": ".py",
   "mimetype": "text/x-python",
   "name": "python",
   "nbconvert_exporter": "python",
   "pygments_lexer": "ipython3",
   "version": "3.6.4"
  }
 },
 "nbformat": 4,
 "nbformat_minor": 2
}
